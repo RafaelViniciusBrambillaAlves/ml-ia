{
 "cells": [
  {
   "cell_type": "markdown",
   "id": "cce54a65-84ef-449f-b241-f7c361f1e49d",
   "metadata": {},
   "source": [
    "# Escolha e Treinamento do Modelo"
   ]
  },
  {
   "cell_type": "markdown",
   "id": "afa45261-8a0f-4937-b8ed-21aa87f0b60d",
   "metadata": {},
   "source": [
    "Escolhemos 4 modelos:\n",
    "\n",
    "* Binomial logistic regression\n",
    "\n",
    "* Decision tree classifier\n",
    "\n",
    "* Random forest classifier\n",
    "\n",
    "* Gradient-boosted tree classifier"
   ]
  },
  {
   "cell_type": "markdown",
   "id": "662d5095-70d8-49a7-8530-b53e183270c1",
   "metadata": {},
   "source": [
    "Importando bibliotecas"
   ]
  },
  {
   "cell_type": "code",
   "execution_count": 46,
   "id": "a8fa070a-4f26-46de-bb7e-e9278ae55702",
   "metadata": {},
   "outputs": [],
   "source": [
    "from pyspark.sql import SparkSession\n",
    "from pyspark.ml import Pipeline\n",
    "from pyspark.ml.classification import NaiveBayes\n",
    "from pyspark.ml.feature import VectorAssembler, MinMaxScaler\n",
    "from pyspark.sql.functions import col, count\n",
    "from pyspark.ml.evaluation import MulticlassClassificationEvaluator\n",
    "import pandas as pd\n",
    "import matplotlib.pyplot as plt\n",
    "import seaborn as sns\n",
    "from pyspark.mllib.evaluation import MulticlassMetrics\n",
    "from pyspark.ml.classification import LogisticRegression\n",
    "from pyspark.ml.classification import DecisionTreeClassifier\n",
    "from pyspark.ml.classification import RandomForestClassifier\n",
    "from pyspark.ml.classification import GBTClassifier"
   ]
  },
  {
   "cell_type": "markdown",
   "id": "996806be-8d33-48d6-b47d-403dc0c7667f",
   "metadata": {},
   "source": [
    "Criando Sessão PySpark"
   ]
  },
  {
   "cell_type": "code",
   "execution_count": 40,
   "id": "4a4021fa-6a7f-4749-aa4b-775044711be5",
   "metadata": {},
   "outputs": [],
   "source": [
    "spark = SparkSession.builder \\\n",
    "    .appName(\"Model-Selection-training\") \\\n",
    "    .getOrCreate()"
   ]
  },
  {
   "cell_type": "markdown",
   "id": "42c5a893-0661-4137-a507-9ac94e2c1680",
   "metadata": {},
   "source": [
    "Lendo dataframe de treino"
   ]
  },
  {
   "cell_type": "code",
   "execution_count": 41,
   "id": "feefe801-00d6-484e-9455-45f4227225ca",
   "metadata": {},
   "outputs": [],
   "source": [
    "parquet_path = \"/home/jovyan/work/data/clean-data/train-data/creditcard_2023.parquet\"\n",
    "train_df = spark.read.parquet(parquet_path)"
   ]
  },
  {
   "cell_type": "markdown",
   "id": "66ac87c7-28ff-46f4-941e-e339c71eb869",
   "metadata": {},
   "source": [
    "Lendo dataframe de teste"
   ]
  },
  {
   "cell_type": "code",
   "execution_count": 42,
   "id": "4557ea30-4f61-4e06-905e-36f5705a3b83",
   "metadata": {},
   "outputs": [],
   "source": [
    "parquet_path = \"/home/jovyan/work/data/clean-data/test-data/creditcard_2023.parquet\"\n",
    "test_df = spark.read.parquet(parquet_path)"
   ]
  },
  {
   "cell_type": "markdown",
   "id": "02a3ca03-0e5a-4416-aa78-162102cca6c2",
   "metadata": {},
   "source": [
    "Função para Matriz de confusão "
   ]
  },
  {
   "cell_type": "code",
   "execution_count": 43,
   "id": "ca0b3a1f-26bc-4663-9191-4e26749e49fa",
   "metadata": {},
   "outputs": [],
   "source": [
    "def plot_confusion_matrix(predictions, model_name):\n",
    "    pred_and_labels = predictions.select(\n",
    "        col(\"prediction\").cast(\"double\"),\n",
    "        col(\"Class\").cast(\"double\")\n",
    "    ).rdd.map(tuple)\n",
    "\n",
    "    metrics = MulticlassMetrics(pred_and_labels)\n",
    "    matrix = metrics.confusionMatrix().toArray()\n",
    "\n",
    "    df_cm = pd.DataFrame(matrix, index=range(len(matrix)), columns=range(len(matrix)))\n",
    "\n",
    "    plt.figure(figsize=(6, 4))\n",
    "    sns.heatmap(df_cm, annot=True, fmt=\".0f\", cmap=\"Oranges\", linewidths=0.5, cbar=False)\n",
    "    plt.xlabel(\"Predito\")\n",
    "    plt.ylabel(\"Real\")\n",
    "    plt.title(f\"Matriz de Confusão - {model_name}\")\n",
    "    plt.show()"
   ]
  },
  {
   "cell_type": "code",
   "execution_count": 57,
   "id": "44b98843-ffbe-4980-be38-4a944fa0fb32",
   "metadata": {},
   "outputs": [],
   "source": [
    "precision_evaluator = MulticlassClassificationEvaluator(labelCol = \"Class\", metricName = \"weightedPrecision\")"
   ]
  },
  {
   "cell_type": "markdown",
   "id": "4986480c-9b3c-4dad-ae3b-4332217ee009",
   "metadata": {
    "jp-MarkdownHeadingCollapsed": true
   },
   "source": [
    "### Binomial logistic regression → Regressão Logística Binomial"
   ]
  },
  {
   "cell_type": "markdown",
   "id": "4a5328de-e802-4933-9d4e-4312159426c0",
   "metadata": {},
   "source": [
    "Criar o modelo de regressão logística binomial"
   ]
  },
  {
   "cell_type": "code",
   "execution_count": 58,
   "id": "953c6040-1f3e-4014-bc15-5b4bf7cc2096",
   "metadata": {},
   "outputs": [],
   "source": [
    "lr = LogisticRegression(featuresCol=\"features\", labelCol=\"Class\")"
   ]
  },
  {
   "cell_type": "markdown",
   "id": "6cc25405-5522-43de-aa6c-775bfdc2d49e",
   "metadata": {},
   "source": [
    "Construir o pipeline"
   ]
  },
  {
   "cell_type": "code",
   "execution_count": 59,
   "id": "97ddb191-8bfc-480a-821a-7c4d646dfe6a",
   "metadata": {},
   "outputs": [],
   "source": [
    "pipeline_lr = Pipeline(stages=[assembler, lr])"
   ]
  },
  {
   "cell_type": "markdown",
   "id": "8832c0bf-f961-44bd-aac9-615527067960",
   "metadata": {},
   "source": [
    "Treinar o modelo"
   ]
  },
  {
   "cell_type": "code",
   "execution_count": 60,
   "id": "482feafc-c0d8-45ac-8f05-cb7a715595c0",
   "metadata": {},
   "outputs": [],
   "source": [
    "model_lr = pipeline_lr.fit(train_df)"
   ]
  },
  {
   "cell_type": "markdown",
   "id": "ebdf7538-8ec6-4354-96d4-5a62a30cd4f3",
   "metadata": {},
   "source": [
    "Fazer previsões no conjunto de teste"
   ]
  },
  {
   "cell_type": "code",
   "execution_count": 61,
   "id": "4ddbd704-4d88-4c6f-ad64-3513f81d2548",
   "metadata": {},
   "outputs": [],
   "source": [
    "predictions_lr = model_lr.transform(test_df)"
   ]
  },
  {
   "cell_type": "markdown",
   "id": "1b17acb3-6ac1-4aec-8f03-2025cebdba99",
   "metadata": {},
   "source": [
    "Resultado"
   ]
  },
  {
   "cell_type": "code",
   "execution_count": 62,
   "id": "ffb067eb-8246-4553-929f-95d95d177482",
   "metadata": {},
   "outputs": [],
   "source": [
    "precision_lr = precision_evaluator.evaluate(predictions_lr)"
   ]
  },
  {
   "cell_type": "code",
   "execution_count": 63,
   "id": "4ff2a1ee-e2ea-415a-9f99-06cce92f6cc9",
   "metadata": {},
   "outputs": [
    {
     "name": "stdout",
     "output_type": "stream",
     "text": [
      "Precisão (Logistic Regression): 0.9649737802287202\n"
     ]
    }
   ],
   "source": [
    "print(f\"Precisão (Logistic Regression): {precision_lr}\")"
   ]
  },
  {
   "cell_type": "code",
   "execution_count": 64,
   "id": "a24af606-64e5-47b4-845c-2e7b82e7fc17",
   "metadata": {},
   "outputs": [
    {
     "name": "stderr",
     "output_type": "stream",
     "text": [
      "/usr/local/spark/python/pyspark/sql/context.py:158: FutureWarning: Deprecated in 3.0.0. Use SparkSession.builder.getOrCreate() instead.\n",
      "  warnings.warn(\n"
     ]
    },
    {
     "data": {
      "image/png": "[encoded data removed]",
      "text/plain": [
       "<Figure size 600x400 with 1 Axes>"
      ]
     },
     "metadata": {},
     "output_type": "display_data"
    }
   ],
   "source": [
    "plot_confusion_matrix(predictions_lr, \"Logistic Regression\")"
   ]
  },
  {
   "cell_type": "markdown",
   "id": "5aab9e3b-ff2b-4499-bd1c-96ec62f2ddbc",
   "metadata": {
    "jp-MarkdownHeadingCollapsed": true
   },
   "source": [
    "### Decision tree classifier → Classificador de Árvore de Decisão"
   ]
  },
  {
   "attachments": {},
   "cell_type": "markdown",
   "id": "9b816589-a70e-4b8f-aaab-af022581c1da",
   "metadata": {},
   "source": [
    "Criar o modelo de árvore de decisão\n",
    "<img src=\"../img/1_xGsYc6aXehD7lyoLEn-mMA.png\" width=\"300\"/>"
   ]
  },
  {
   "cell_type": "code",
   "execution_count": 65,
   "id": "882af1bb-598a-4100-b14d-5dceec102fb5",
   "metadata": {},
   "outputs": [],
   "source": [
    "dt = DecisionTreeClassifier(featuresCol=\"features\", labelCol=\"Class\")"
   ]
  },
  {
   "cell_type": "markdown",
   "id": "2be42c80-2a02-4d98-a5af-da8cb37cc8a4",
   "metadata": {},
   "source": [
    "Construir o pipeline para a árvore de decisão"
   ]
  },
  {
   "cell_type": "code",
   "execution_count": 66,
   "id": "6518c15e-b03f-40ac-a478-a1ad31b8665a",
   "metadata": {},
   "outputs": [],
   "source": [
    "pipeline_dt = Pipeline(stages=[assembler, dt])"
   ]
  },
  {
   "cell_type": "markdown",
   "id": "db509692-f034-4b2e-81cf-573cdc75a088",
   "metadata": {},
   "source": [
    "Treinar o modelo"
   ]
  },
  {
   "cell_type": "code",
   "execution_count": 67,
   "id": "39851c6c-3445-4110-882d-d099853afd72",
   "metadata": {},
   "outputs": [],
   "source": [
    "model_dt = pipeline_dt.fit(train_df)"
   ]
  },
  {
   "cell_type": "markdown",
   "id": "24add9a2-6175-4684-8a73-11d62d49f068",
   "metadata": {},
   "source": [
    "Fazer previsões no conjunto de teste"
   ]
  },
  {
   "cell_type": "code",
   "execution_count": 68,
   "id": "4f7ba4b2-3b9f-46e2-9cb9-f605f423be48",
   "metadata": {},
   "outputs": [],
   "source": [
    "predictions_dt = model_dt.transform(test_df)"
   ]
  },
  {
   "cell_type": "markdown",
   "id": "17bb5667-416c-4ddc-8128-b2cd166522fa",
   "metadata": {},
   "source": [
    "Resultado"
   ]
  },
  {
   "cell_type": "code",
   "execution_count": 69,
   "id": "5e9e9f9c-d75a-41c8-98a5-826aea5de817",
   "metadata": {},
   "outputs": [],
   "source": [
    "precision_dt = precision_evaluator.evaluate(predictions_dt)"
   ]
  },
  {
   "cell_type": "code",
   "execution_count": 70,
   "id": "ac651bf9-27d4-4312-8dbb-fcc97ccd3b8d",
   "metadata": {},
   "outputs": [
    {
     "name": "stdout",
     "output_type": "stream",
     "text": [
      "Precisão (Decision Tree): 0.9603762937859811\n"
     ]
    }
   ],
   "source": [
    "print(f\"Precisão (Decision Tree): {precision_dt}\")"
   ]
  },
  {
   "cell_type": "code",
   "execution_count": 71,
   "id": "efcce144-bb77-4940-aa38-c5c753858b7c",
   "metadata": {},
   "outputs": [
    {
     "name": "stderr",
     "output_type": "stream",
     "text": [
      "/usr/local/spark/python/pyspark/sql/context.py:158: FutureWarning: Deprecated in 3.0.0. Use SparkSession.builder.getOrCreate() instead.\n",
      "  warnings.warn(\n"
     ]
    },
    {
     "data": {
      "image/png": "[encoded data removed]",
      "text/plain": [
       "<Figure size 600x400 with 1 Axes>"
      ]
     },
     "metadata": {},
     "output_type": "display_data"
    }
   ],
   "source": [
    "plot_confusion_matrix(predictions_dt, \"Decision tree classifier \")"
   ]
  },
  {
   "cell_type": "markdown",
   "id": "e7ae4428-a898-4121-9a9f-32af73460c5a",
   "metadata": {
    "jp-MarkdownHeadingCollapsed": true
   },
   "source": [
    "### Random Forest Classifier → Classificador de Floresta Aleatória"
   ]
  },
  {
   "attachments": {},
   "cell_type": "markdown",
   "id": "501f2c54-1802-43ec-8997-6a378b9370de",
   "metadata": {},
   "source": [
    "Criar o modelo de Random Forest\n",
    "<img src=\"../img/1_R3oJiyaQwyLUyLZL-scDpw.png\" width=\"300\"/>"
   ]
  },
  {
   "cell_type": "code",
   "execution_count": 72,
   "id": "cad215ac-1ec7-4901-b45e-fe9b63e11ae9",
   "metadata": {},
   "outputs": [],
   "source": [
    "rf = RandomForestClassifier(featuresCol = \"features\", labelCol = \"Class\", numTrees = 100)"
   ]
  },
  {
   "cell_type": "markdown",
   "id": "4d5012fa-05b9-469f-8a3d-d10e9f291973",
   "metadata": {},
   "source": [
    "Construir o pipeline para o Random Forest"
   ]
  },
  {
   "cell_type": "code",
   "execution_count": 73,
   "id": "9f1566a3-f64d-4ad9-b37d-76e9d37d585a",
   "metadata": {},
   "outputs": [],
   "source": [
    "pipeline_rf = Pipeline(stages=[assembler, rf])"
   ]
  },
  {
   "cell_type": "markdown",
   "id": "4bff98fe-7430-4b4a-8408-f2d99157835b",
   "metadata": {},
   "source": [
    "Treinar modelo"
   ]
  },
  {
   "cell_type": "code",
   "execution_count": 74,
   "id": "266c7680-3bcc-451e-bfcb-834db518be9f",
   "metadata": {},
   "outputs": [],
   "source": [
    "model_rf = pipeline_rf.fit(train_df)"
   ]
  },
  {
   "cell_type": "markdown",
   "id": "b6a05f7d-3557-4fd8-8308-24c7a6852b81",
   "metadata": {},
   "source": [
    "Fazer previsões do conjunto de teste"
   ]
  },
  {
   "cell_type": "code",
   "execution_count": 75,
   "id": "f9cfed34-74f7-45a5-bea0-ca512da5ba3f",
   "metadata": {},
   "outputs": [],
   "source": [
    "predictions_rf = model_rf.transform(test_df)"
   ]
  },
  {
   "cell_type": "markdown",
   "id": "1f7284ed-ec4b-4874-9588-35a8561d8962",
   "metadata": {},
   "source": [
    "Resultado"
   ]
  },
  {
   "cell_type": "code",
   "execution_count": 76,
   "id": "f392370e-c8a8-4124-8d50-6e188f8c1632",
   "metadata": {},
   "outputs": [],
   "source": [
    "precision_rf = precision_evaluator.evaluate(predictions_rf)"
   ]
  },
  {
   "cell_type": "code",
   "execution_count": 77,
   "id": "b44b8644-19c6-4508-9512-0de530c61d63",
   "metadata": {},
   "outputs": [
    {
     "name": "stdout",
     "output_type": "stream",
     "text": [
      "Precisão (Random Forest): 0.9578710798430294\n"
     ]
    }
   ],
   "source": [
    "print(f\"Precisão (Random Forest): {precision_rf}\")"
   ]
  },
  {
   "cell_type": "code",
   "execution_count": 78,
   "id": "21b3f1b4-4470-4140-8060-0e34688d7f7e",
   "metadata": {},
   "outputs": [
    {
     "name": "stderr",
     "output_type": "stream",
     "text": [
      "/usr/local/spark/python/pyspark/sql/context.py:158: FutureWarning: Deprecated in 3.0.0. Use SparkSession.builder.getOrCreate() instead.\n",
      "  warnings.warn(\n"
     ]
    },
    {
     "data": {
      "image/png": "[encoded data removed]",
      "text/plain": [
       "<Figure size 600x400 with 1 Axes>"
      ]
     },
     "metadata": {},
     "output_type": "display_data"
    }
   ],
   "source": [
    "plot_confusion_matrix(predictions_rf, \"Random Forest Classifier\")"
   ]
  },
  {
   "cell_type": "markdown",
   "id": "654dc865-3718-46cd-b137-571df48be173",
   "metadata": {},
   "source": [
    "### Gradient-boosted Tree Classifier → Classificador de Árvore com Boosting de Gradiente"
   ]
  },
  {
   "cell_type": "markdown",
   "id": "287ea2e0-a784-4459-8a7e-841973738c39",
   "metadata": {},
   "source": [
    "Criar modelo de Gradient-Boosted Tree"
   ]
  },
  {
   "cell_type": "code",
   "execution_count": 79,
   "id": "ca46a7df-c7bd-4241-b284-d895fb25511f",
   "metadata": {},
   "outputs": [],
   "source": [
    "gbt = GBTClassifier(featuresCol = \"features\", labelCol = \"Class\", maxIter = 100)"
   ]
  },
  {
   "cell_type": "markdown",
   "id": "04af6829-076c-4db1-a524-1365554442e6",
   "metadata": {},
   "source": [
    "Construir o pipeline para o Gradient-Boosted Tree"
   ]
  },
  {
   "cell_type": "code",
   "execution_count": 80,
   "id": "0ead3f90-8bcc-42d6-aebd-76f468fc7b72",
   "metadata": {},
   "outputs": [],
   "source": [
    "pipeline_gbt = Pipeline(stages = [assembler, gbt])"
   ]
  },
  {
   "cell_type": "markdown",
   "id": "2ba91bd3-9d14-4dae-aace-c1ebe373f0d1",
   "metadata": {},
   "source": [
    "Treinar modelo\n"
   ]
  },
  {
   "cell_type": "code",
   "execution_count": 81,
   "id": "8b73fd4d-7ab7-4785-9b08-b272292f0de4",
   "metadata": {},
   "outputs": [],
   "source": [
    "model_gbt = pipeline_gbt.fit(train_df)"
   ]
  },
  {
   "cell_type": "markdown",
   "id": "0662daca-ef4f-46fe-a663-8ee87e8c0ea0",
   "metadata": {},
   "source": [
    "Fazer previsões no conjunto de teste"
   ]
  },
  {
   "cell_type": "code",
   "execution_count": 82,
   "id": "b669f156-1d2b-4f05-9c86-a40e25af4069",
   "metadata": {},
   "outputs": [],
   "source": [
    "predictions_gbt = model_gbt.transform(test_df)"
   ]
  },
  {
   "cell_type": "markdown",
   "id": "2efad527-ac0f-4f95-ba13-38fce42cdb88",
   "metadata": {},
   "source": [
    "Resultado"
   ]
  },
  {
   "cell_type": "code",
   "execution_count": 83,
   "id": "8fb77fbf-569a-4e5b-8076-73521eb28f15",
   "metadata": {},
   "outputs": [],
   "source": [
    "precision_gbt = precision_evaluator.evaluate(predictions_gbt)"
   ]
  },
  {
   "cell_type": "code",
   "execution_count": 84,
   "id": "b827d439-0534-4177-87b4-7f8392e72813",
   "metadata": {},
   "outputs": [
    {
     "name": "stdout",
     "output_type": "stream",
     "text": [
      "Precisão (Gradient-Boosted Tree): 0.9870681387844105\n"
     ]
    }
   ],
   "source": [
    "print(f\"Precisão (Gradient-Boosted Tree): {precision_gbt}\")"
   ]
  },
  {
   "cell_type": "code",
   "execution_count": 85,
   "id": "799be984-fcd3-4a05-992c-e9b9b22f9bbd",
   "metadata": {},
   "outputs": [
    {
     "name": "stderr",
     "output_type": "stream",
     "text": [
      "/usr/local/spark/python/pyspark/sql/context.py:158: FutureWarning: Deprecated in 3.0.0. Use SparkSession.builder.getOrCreate() instead.\n",
      "  warnings.warn(\n"
     ]
    },
    {
     "data": {
      "image/png": "[encoded data removed]",
      "text/plain": [
       "<Figure size 600x400 with 1 Axes>"
      ]
     },
     "metadata": {},
     "output_type": "display_data"
    }
   ],
   "source": [
    "plot_confusion_matrix(predictions_gbt, \"Gradient-boosted Tree Classifier\")"
   ]
  }
 ],
 "metadata": {
  "kernelspec": {
   "display_name": "Python 3 (ipykernel)",
   "language": "python",
   "name": "python3"
  },
  "language_info": {
   "codemirror_mode": {
    "name": "ipython",
    "version": 3
   },
   "file_extension": ".py",
   "mimetype": "text/x-python",
   "name": "python",
   "nbconvert_exporter": "python",
   "pygments_lexer": "ipython3",
   "version": "3.11.6"
  },
  "widgets": {
   "application/vnd.jupyter.widget-state+json": {
    "state": {},
    "version_major": 2,
    "version_minor": 0
   }
  }
 },
 "nbformat": 4,
 "nbformat_minor": 5
}
