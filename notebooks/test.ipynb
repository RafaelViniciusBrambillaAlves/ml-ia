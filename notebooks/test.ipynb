{
 "cells": [
  {
   "cell_type": "markdown",
   "id": "94c13f29-25b4-40b5-a9cd-a3d39974c227",
   "metadata": {},
   "source": [
    "## Comparação entreo o COLAB e DOCKER Local"
   ]
  },
  {
   "cell_type": "markdown",
   "id": "64dad962-4d74-4c75-949f-90753001052d",
   "metadata": {},
   "source": [
    "<img src=\"../img/02f52912-c6f7-4e1a-ae8a-efb6bf8f07ed.jpg\" width=\"1000\"/>"
   ]
  },
  {
   "cell_type": "markdown",
   "id": "fb58f3f0-793c-4f7f-a3ab-811f685438b6",
   "metadata": {},
   "source": [
    "<img src=\"../img/e9bf33fd-c4ad-4d86-bfd6-96cacd63ebb9.jpg\" width=\"1000\"/>"
   ]
  },
  {
   "cell_type": "markdown",
   "id": "673a18bf-a878-4621-af6b-ed3f0e5b9ac5",
   "metadata": {},
   "source": [
    "## Comparação formato de arquivo, .CSV e .PARQUET"
   ]
  },
  {
   "cell_type": "markdown",
   "id": "c7e2be62-1e11-40a5-85e8-589474f60df1",
   "metadata": {},
   "source": [
    "<img src=\"../img/2025-04-22 _095533.png\" width=\"300\"/>"
   ]
  },
  {
   "cell_type": "code",
   "execution_count": null,
   "id": "939ce94e-7380-4fb2-8bce-ef8d5c62c50d",
   "metadata": {},
   "outputs": [],
   "source": []
  }
 ],
 "metadata": {
  "kernelspec": {
   "display_name": "Python 3 (ipykernel)",
   "language": "python",
   "name": "python3"
  },
  "language_info": {
   "codemirror_mode": {
    "name": "ipython",
    "version": 3
   },
   "file_extension": ".py",
   "mimetype": "text/x-python",
   "name": "python",
   "nbconvert_exporter": "python",
   "pygments_lexer": "ipython3",
   "version": "3.11.6"
  },
  "widgets": {
   "application/vnd.jupyter.widget-state+json": {
    "state": {},
    "version_major": 2,
    "version_minor": 0
   }
  }
 },
 "nbformat": 4,
 "nbformat_minor": 5
}
