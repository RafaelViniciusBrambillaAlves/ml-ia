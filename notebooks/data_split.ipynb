{
 "cells": [
  {
   "cell_type": "markdown",
   "id": "2ac1d8c5-1fb7-496a-90e3-cd4a04397a3c",
   "metadata": {},
   "source": [
    "### Divisão dos Dados"
   ]
  },
  {
   "cell_type": "markdown",
   "id": "17765304-6c39-47e4-b28a-58998218085b",
   "metadata": {},
   "source": [
    "  Dividir os dados entre treinamento e teste permite avaliar a generalização do modelo, evitando overfitting. O modelo aprende com 80% dos dados e é testado nos 20% restantes para medir o desempenho real."
   ]
  },
  {
   "cell_type": "markdown",
   "id": "cbb4f65b-9654-4cf4-a830-9a54c17584ff",
   "metadata": {},
   "source": [
    "Importando bibliotecas"
   ]
  },
  {
   "cell_type": "code",
   "execution_count": 10,
   "id": "1a633d9a-b597-47f8-96ba-c8afa1bbd48c",
   "metadata": {},
   "outputs": [],
   "source": [
    "from pyspark.sql import SparkSession"
   ]
  },
  {
   "cell_type": "markdown",
   "id": "60951ac9-c82b-4bfb-972b-8708c67ae0dd",
   "metadata": {},
   "source": [
    "Criando Sessão PySpark"
   ]
  },
  {
   "cell_type": "code",
   "execution_count": 11,
   "id": "4fd5143f-327d-4242-8459-23d005d62108",
   "metadata": {},
   "outputs": [],
   "source": [
    "spark = SparkSession.builder \\\n",
    "    .appName(\"Data-Split\") \\\n",
    "    .getOrCreate()"
   ]
  },
  {
   "cell_type": "markdown",
   "id": "e87cb1c8-b87b-4031-9f86-45ac99dfc607",
   "metadata": {},
   "source": [
    "Lendo dataframe"
   ]
  },
  {
   "cell_type": "code",
   "execution_count": 12,
   "id": "9e887a83-e871-4f3f-88e8-73cb8fe7db16",
   "metadata": {},
   "outputs": [],
   "source": [
    "parquet_path = \"/home/jovyan/work/data/clean-data/creditcard_2023.parquet\"\n",
    "\n",
    "df = spark.read.parquet(parquet_path)"
   ]
  },
  {
   "cell_type": "markdown",
   "id": "f86c5497-8d12-4179-bf35-5dcf199a4a5d",
   "metadata": {},
   "source": [
    "Dividindo os dados"
   ]
  },
  {
   "cell_type": "code",
   "execution_count": 13,
   "id": "3b1f51bf-15f0-4d7a-9426-5dc9687621ce",
   "metadata": {},
   "outputs": [],
   "source": [
    "train_df, test_df = df.randomSplit([0.8, 0.2], seed=42)"
   ]
  },
  {
   "cell_type": "markdown",
   "id": "b90b43cd-c233-477b-9737-6bab2eff9013",
   "metadata": {},
   "source": [
    "Número de dados para Treinamento"
   ]
  },
  {
   "cell_type": "code",
   "execution_count": 14,
   "id": "ff3bec15-2cc9-4d57-8546-4db4e24cb970",
   "metadata": {},
   "outputs": [
    {
     "data": {
      "text/plain": [
       "455149"
      ]
     },
     "execution_count": 14,
     "metadata": {},
     "output_type": "execute_result"
    }
   ],
   "source": [
    "train_df.count()"
   ]
  },
  {
   "cell_type": "markdown",
   "id": "a9d18024-0aa2-43db-9702-3e96a7af8152",
   "metadata": {},
   "source": [
    "Número de dados para Teste"
   ]
  },
  {
   "cell_type": "code",
   "execution_count": 15,
   "id": "37131d7b-6d31-48fb-ac18-12fc0a816a2e",
   "metadata": {},
   "outputs": [
    {
     "data": {
      "text/plain": [
       "113481"
      ]
     },
     "execution_count": 15,
     "metadata": {},
     "output_type": "execute_result"
    }
   ],
   "source": [
    "test_df.count()"
   ]
  },
  {
   "cell_type": "markdown",
   "id": "8bffcb5a-a80c-4f2f-af44-d54536a2daef",
   "metadata": {},
   "source": [
    "Salvando os dataframs"
   ]
  },
  {
   "cell_type": "code",
   "execution_count": 16,
   "id": "2643c9a7-b024-44bf-abd6-2e664ff1aa40",
   "metadata": {},
   "outputs": [],
   "source": [
    "output_path = \"/home/jovyan/work/data/clean-data/train-data/creditcard_2023.parquet\"\n",
    "train_df.write.parquet(output_path, mode=\"overwrite\")"
   ]
  },
  {
   "cell_type": "code",
   "execution_count": 17,
   "id": "368648f3-4631-4f5e-9bd6-eed873ed1c71",
   "metadata": {},
   "outputs": [],
   "source": [
    "output_path = \"/home/jovyan/work/data/clean-data/test-data/creditcard_2023.parquet\"\n",
    "test_df.write.parquet(output_path, mode=\"overwrite\")"
   ]
  },
  {
   "cell_type": "markdown",
   "id": "4b454688-0fa2-4830-94c5-cab03384ae21",
   "metadata": {},
   "source": [
    "Finalizando a sessão Spark"
   ]
  },
  {
   "cell_type": "code",
   "execution_count": 18,
   "id": "d31ad0bc-1bb2-4fa4-abdb-67d767a60593",
   "metadata": {},
   "outputs": [],
   "source": [
    "spark.stop()"
   ]
  },
  {
   "cell_type": "code",
   "execution_count": null,
   "id": "4d4d7979-497a-46f1-8f6c-6b171b45e794",
   "metadata": {},
   "outputs": [],
   "source": []
  }
 ],
 "metadata": {
  "kernelspec": {
   "display_name": "Python 3 (ipykernel)",
   "language": "python",
   "name": "python3"
  },
  "language_info": {
   "codemirror_mode": {
    "name": "ipython",
    "version": 3
   },
   "file_extension": ".py",
   "mimetype": "text/x-python",
   "name": "python",
   "nbconvert_exporter": "python",
   "pygments_lexer": "ipython3",
   "version": "3.11.6"
  },
  "widgets": {
   "application/vnd.jupyter.widget-state+json": {
    "state": {},
    "version_major": 2,
    "version_minor": 0
   }
  }
 },
 "nbformat": 4,
 "nbformat_minor": 5
}
