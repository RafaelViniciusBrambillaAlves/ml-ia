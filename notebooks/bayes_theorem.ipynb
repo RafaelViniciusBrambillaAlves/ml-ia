{
 "cells": [
  {
   "cell_type": "markdown",
   "id": "8315c4cd-881f-4da3-ad0b-765dbda6d968",
   "metadata": {
    "jp-MarkdownHeadingCollapsed": true
   },
   "source": [
    "# Example"
   ]
  },
  {
   "cell_type": "code",
   "execution_count": 3,
   "id": "b8a66939-8944-46da-be10-b3c5516c734e",
   "metadata": {},
   "outputs": [],
   "source": [
    "    # Criar sessão Spark\n",
    "    spark = SparkSession.builder.appName(\"BayesClassification\").getOrCreate()"
   ]
  },
  {
   "cell_type": "code",
   "execution_count": 4,
   "id": "0250245b-4903-4bc4-8c75-f0014bb364d1",
   "metadata": {},
   "outputs": [],
   "source": [
    "# Criar DataFrame com os dados\n",
    "data = [\n",
    "    (\"Azul\", \"Grande\", \"Pesado\", \"A\"),\n",
    "    (\"Vermelho\", \"Pequeno\", \"Leve\", \"B\"),\n",
    "    (\"Azul\", \"Médio\", \"Médio\", \"A\"),\n",
    "    (\"Vermelho\", \"Grande\", \"Pesado\", \"B\"),\n",
    "    (\"Azul\", \"Pequeno\", \"Leve\", \"A\"),\n",
    "    (\"Azul\", \"Grande\", \"Leve\", \"A\"),\n",
    "    (\"Vermelho\", \"Médio\", \"Pesado\", \"B\"),\n",
    "    (\"Azul\", \"Médio\", \"Leve\", \"A\"),\n",
    "    (\"Vermelho\", \"Pequeno\", \"Médio\", \"B\"),\n",
    "    (\"Azul\", \"Grande\", \"Médio\", \"A\"),\n",
    "]"
   ]
  },
  {
   "cell_type": "code",
   "execution_count": 5,
   "id": "acb8c285-8d65-42e4-91bc-f67473f22fd0",
   "metadata": {},
   "outputs": [],
   "source": [
    "columns = [\"Cor\", \"Tamanho\", \"Peso\", \"Classe\"]\n",
    "df_train_ = spark.createDataFrame(data, columns)"
   ]
  },
  {
   "cell_type": "code",
   "execution_count": 6,
   "id": "022f6fef-576b-4ab0-9513-36d13b505051",
   "metadata": {},
   "outputs": [
    {
     "name": "stdout",
     "output_type": "stream",
     "text": [
      "+--------+-------+------+------+\n",
      "|     Cor|Tamanho|  Peso|Classe|\n",
      "+--------+-------+------+------+\n",
      "|    Azul| Grande|Pesado|     A|\n",
      "|Vermelho|Pequeno|  Leve|     B|\n",
      "|    Azul|  Médio| Médio|     A|\n",
      "|Vermelho| Grande|Pesado|     B|\n",
      "|    Azul|Pequeno|  Leve|     A|\n",
      "|    Azul| Grande|  Leve|     A|\n",
      "|Vermelho|  Médio|Pesado|     B|\n",
      "|    Azul|  Médio|  Leve|     A|\n",
      "|Vermelho|Pequeno| Médio|     B|\n",
      "|    Azul| Grande| Médio|     A|\n",
      "+--------+-------+------+------+\n",
      "\n"
     ]
    }
   ],
   "source": [
    "df_train_.show()"
   ]
  },
  {
   "cell_type": "code",
   "execution_count": 7,
   "id": "8d3a6f6a-5a83-4911-85ac-556253b9d2e5",
   "metadata": {},
   "outputs": [
    {
     "name": "stdout",
     "output_type": "stream",
     "text": [
      "+----+-------+------+------+\n",
      "| Cor|Tamanho|  Peso|Classe|\n",
      "+----+-------+------+------+\n",
      "| ???|  Médio|Pesado|     B|\n",
      "| ???|  Médio| Médio|     A|\n",
      "|Azul| Grande| Médio|     A|\n",
      "|Rosa|Pequeno|Pesado|     B|\n",
      "+----+-------+------+------+\n",
      "\n"
     ]
    }
   ],
   "source": [
    "data_test_ = [\n",
    "    (\"???\", \"Médio\", \"Pesado\", \"B\"),  # Exemplo de teste com classe conhecida\n",
    "    (\"???\", \"Médio\", \"Médio\", \"A\"),  # Outro exemplo de teste\n",
    "    (\"Azul\", \"Grande\", \"Médio\", \"A\"),\n",
    "    (\"Rosa\", \"Pequeno\", \"Pesado\", \"B\"),\n",
    "]\n",
    "df_test_ = spark.createDataFrame(data_test_, columns)\n",
    "df_test_.show()"
   ]
  },
  {
   "cell_type": "code",
   "execution_count": 55,
   "id": "83c94946-2ceb-4f11-bb58-2d50f3505d76",
   "metadata": {},
   "outputs": [],
   "source": [
    "def calculate_conditional_prob(df, feature, class_col=\"Classe\"):\n",
    "    feature_counts = df.groupBy(class_col, feature).agg(count(feature).alias(\"count\"))\n",
    "    class_counts = df.groupBy(class_col).agg(count(\"*\").alias(\"class_count\"))\n",
    "    prob_df = feature_counts.join(class_counts, class_col).withColumn(\n",
    "        f\"P({feature}|{class_col})\", col(\"count\") / col(\"class_count\")\n",
    "    )\n",
    "    return prob_df.drop(\"count\", \"class_count\")\n",
    "\n",
    "def get_prob(prob_df, classe, valor, feature_name):\n",
    "    result = prob_df.filter((col(\"Classe\") == classe) & (col(feature_name) == valor)).select(prob_df.columns[2]).collect()\n",
    "    \n",
    "    if result:\n",
    "        return result[0][0]  \n",
    "    \n",
    "    # suavização de Laplace\n",
    "    class_count = class_probs.filter(col(\"Classe\") == classe).select(\"count\").collect()[0][0]\n",
    "    return 1.0 / (class_count + class_probs.count() + 1)\n",
    "\n",
    "def bayes(df_train: DataFrame, df_test: DataFrame, target_col: str = \"Classe\") -> DataFrame:\n",
    "    feature_cols = [c for c in df_train.columns if c != target_col]\n",
    "\n",
    "    # P(Ck)\n",
    "    class_probs = (\n",
    "        df_train.groupBy(target_col)\n",
    "        .agg(count(\"*\").alias(\"count\"))\n",
    "        .withColumn(\"P(Ck)\", col(\"count\") / df_train.count())\n",
    "        .drop(\"count\")\n",
    "        .collect()\n",
    "    )\n",
    "    class_probs_dict = {row[target_col]: row[\"P(Ck)\"] for row in class_probs}\n",
    "    classes_sorted = sorted(class_probs_dict.keys())  # para manter a ordem [0, 1]\n",
    "\n",
    "    # P(x|Ck)\n",
    "    feature_probs = {}\n",
    "    for feature in feature_cols:\n",
    "        prob_df = calculate_conditional_prob(df_train, feature, target_col)\n",
    "        feature_probs[feature] = {\n",
    "            (row[target_col], row[feature]): row[f\"P({feature}|{target_col})\"]\n",
    "            for row in prob_df.collect()\n",
    "        }\n",
    "\n",
    "    # Previsão e montagem dos resultados\n",
    "    results = []\n",
    "    for row in df_test.toLocalIterator():\n",
    "        probs = {}\n",
    "        row_dict = row.asDict()\n",
    "\n",
    "        for classe in classes_sorted:\n",
    "            p_total = class_probs_dict[classe]\n",
    "            for feature in feature_cols:\n",
    "                key = (classe, row_dict.get(feature))\n",
    "                p_feature = feature_probs[feature].get(\n",
    "                    key, 1 / (df_train.count() + len(class_probs_dict))\n",
    "                )  # Laplace smoothing\n",
    "                p_total *= p_feature\n",
    "            probs[classe] = p_total\n",
    "\n",
    "        # Normalização das probabilidades\n",
    "        total_prob = sum(probs.values())\n",
    "        prob_vector = [probs[c] / total_prob for c in classes_sorted]\n",
    "\n",
    "        # predicted_class = float(classes_sorted[prob_vector.index(max(prob_vector))])\n",
    "        # true_class = float(row[target_col])\n",
    "        predicted_class = classes_sorted[prob_vector.index(max(prob_vector))]\n",
    "        true_class = row[target_col]\n",
    "        \n",
    "\n",
    "        results.append(Row(prediction=predicted_class, Classe=true_class, probability=prob_vector))\n",
    "\n",
    "    # Criar DataFrame com os resultados\n",
    "    result_df = df_train.sql_ctx.createDataFrame(results)\n",
    "    result_df.show(10, truncate=False)\n",
    "\n",
    "    # Acurácia\n",
    "    correct_predictions = result_df.filter(col(\"prediction\") == col(\"Classe\")).count()\n",
    "    total_samples = result_df.count()\n",
    "    accuracy = correct_predictions / total_samples\n",
    "    print(f\"Acurácia: {accuracy:.2%}\")\n",
    "\n",
    "    return result_df"
   ]
  },
  {
   "cell_type": "code",
   "execution_count": 8,
   "id": "73d74865-5a7e-44d4-9bac-164285fffcf4",
   "metadata": {},
   "outputs": [],
   "source": [
    "def calculate_conditional_prob(df, feature, class_col=\"Classe\"):\n",
    "    feature_counts = df.groupBy(class_col, feature).agg(count(feature).alias(\"count\"))\n",
    "    class_counts = df.groupBy(class_col).agg(count(\"*\").alias(\"class_count\"))\n",
    "    prob_df = feature_counts.join(class_counts, class_col).withColumn(\n",
    "        f\"P({feature}|{class_col})\", col(\"count\") / col(\"class_count\")\n",
    "    )\n",
    "    return prob_df.drop(\"count\", \"class_count\")\n",
    "\n",
    "def get_prob(prob_df, classe, valor, feature_name):\n",
    "    result = prob_df.filter((col(\"Classe\") == classe) & (col(feature_name) == valor)).select(prob_df.columns[2]).collect()\n",
    "    \n",
    "    if result:\n",
    "        return result[0][0]  \n",
    "    \n",
    "    # suavização de Laplace\n",
    "    class_count = class_probs.filter(col(\"Classe\") == classe).select(\"count\").collect()[0][0]\n",
    "    return 1.0 / (class_count + class_probs.count() + 1)\n",
    "\n",
    "def bayes(df_train: DataFrame, df_test: DataFrame, target_col: str = \"Classe\") -> DataFrame:\n",
    "    feature_cols = [c for c in df_train.columns if c != target_col]\n",
    "\n",
    "    # P(Ck)\n",
    "    class_probs = (\n",
    "        df_train.groupBy(target_col)\n",
    "        .agg(count(\"*\").alias(\"count\"))\n",
    "        .withColumn(\"P(Ck)\", col(\"count\") / df_train.count())\n",
    "        .drop(\"count\")\n",
    "        .collect()\n",
    "    )\n",
    "    class_probs_dict = {row[target_col]: row[\"P(Ck)\"] for row in class_probs}\n",
    "    classes_sorted = sorted(class_probs_dict.keys()) \n",
    "\n",
    "    # P(x|Ck)\n",
    "    feature_probs = {}\n",
    "    for feature in feature_cols:\n",
    "        prob_df = calculate_conditional_prob(df_train, feature, target_col)\n",
    "        feature_probs[feature] = {\n",
    "            (row[target_col], row[feature]): row[f\"P({feature}|{target_col})\"]\n",
    "            for row in prob_df.collect()\n",
    "        }\n",
    "\n",
    "    # Previsão e montagem dos resultados\n",
    "    results = []\n",
    "    for row in df_test.toLocalIterator():\n",
    "        probs = {}\n",
    "        row_dict = row.asDict()\n",
    "\n",
    "        for classe in classes_sorted:\n",
    "            p_total = class_probs_dict[classe]\n",
    "            for feature in feature_cols:\n",
    "                key = (classe, row_dict.get(feature))\n",
    "                p_feature = feature_probs[feature].get(\n",
    "                    key, 1 / (df_train.count() + len(class_probs_dict))\n",
    "                )  # suavização de Laplace \n",
    "                p_total *= p_feature\n",
    "            probs[classe] = p_total\n",
    "\n",
    "        # Normalização das probabilidades\n",
    "        total_prob = sum(probs.values())\n",
    "        prob_vector = [probs[c] / total_prob for c in classes_sorted]\n",
    "\n",
    "        # predicted_class = float(classes_sorted[prob_vector.index(max(prob_vector))])\n",
    "        # true_class = float(row[target_col])\n",
    "        predicted_class = classes_sorted[prob_vector.index(max(prob_vector))]\n",
    "        true_class = row[target_col]\n",
    "        \n",
    "\n",
    "        results.append(Row(prediction=predicted_class, Classe=true_class, probability=prob_vector))\n",
    "\n",
    "    # Criar DataFrame com os resultados\n",
    "    result_df = df_train.sql_ctx.createDataFrame(results)\n",
    "    result_df.show(10, truncate=False)\n",
    "\n",
    "    # Acurácia\n",
    "    correct_predictions = result_df.filter(col(\"prediction\") == col(\"Classe\")).count()\n",
    "    total_samples = result_df.count()\n",
    "    accuracy = correct_predictions / total_samples\n",
    "    print(f\"Acurácia: {accuracy:.2%}\")\n",
    "\n",
    "    return result_df"
   ]
  },
  {
   "cell_type": "code",
   "execution_count": 11,
   "id": "85217762-e856-444e-8f62-3341e54abf4f",
   "metadata": {},
   "outputs": [
    {
     "name": "stdout",
     "output_type": "stream",
     "text": [
      "+----------+------+-----------------------------------------+\n",
      "|prediction|Classe|probability                              |\n",
      "+----------+------+-----------------------------------------+\n",
      "|B         |B     |[0.3999999999999999, 0.6]                |\n",
      "|A         |A     |[0.7272727272727272, 0.27272727272727276]|\n",
      "|A         |A     |[0.9795918367346939, 0.02040816326530612]|\n",
      "|B         |B     |[0.14285714285714282, 0.8571428571428571]|\n",
      "+----------+------+-----------------------------------------+\n",
      "\n",
      "Acurácia: 100.00%\n"
     ]
    }
   ],
   "source": [
    "result_df = bayes(df_train_, df_test_, \"Classe\")"
   ]
  },
  {
   "cell_type": "code",
   "execution_count": 12,
   "id": "e2927cb4-44f8-4f8a-a964-54952431de71",
   "metadata": {},
   "outputs": [
    {
     "data": {
      "image/png": "[encoded data removed]",
      "text/plain": [
       "<Figure size 640x480 with 2 Axes>"
      ]
     },
     "metadata": {},
     "output_type": "display_data"
    }
   ],
   "source": [
    "y_true = [row['Classe'] for row in result_df.collect()]\n",
    "y_pred = [row['prediction'] for row in result_df.collect()]\n",
    "\n",
    "cm = confusion_matrix(y_true, y_pred)\n",
    "disp = ConfusionMatrixDisplay(confusion_matrix=cm)\n",
    "disp.plot()\n",
    "plt.title(\"Matriz de Confusão - Naive Bayes\")\n",
    "plt.show()"
   ]
  },
  {
   "cell_type": "markdown",
   "id": "821d8330-59e0-4807-919c-41dfb7d36d6e",
   "metadata": {},
   "source": [
    "# Teorema de Bayes"
   ]
  },
  {
   "cell_type": "markdown",
   "id": "d2a5122d-3d1e-4fef-ba44-6f7b08042ce0",
   "metadata": {},
   "source": [
    "Importando bibliotecas"
   ]
  },
  {
   "cell_type": "code",
   "execution_count": 1,
   "id": "66fd8ad7-36ec-4a6e-9f7d-d59a9aa54876",
   "metadata": {},
   "outputs": [],
   "source": [
    "from pyspark.sql import SparkSession\n",
    "from pyspark.sql import functions as F\n",
    "import pandas as pd\n",
    "from pyspark.ml.feature import VectorAssembler\n",
    "from pyspark.sql import DataFrame\n",
    "from pyspark.sql.functions import col, count\n",
    "from pyspark.sql import Row\n",
    "from sklearn.metrics import confusion_matrix, ConfusionMatrixDisplay\n",
    "import matplotlib.pyplot as plt\n",
    "from pyspark.ml.feature import QuantileDiscretizer"
   ]
  },
  {
   "cell_type": "markdown",
   "id": "5264dcea-f64f-4b33-a07b-525d8f947333",
   "metadata": {},
   "source": [
    "Criando Sessão PySpark"
   ]
  },
  {
   "cell_type": "code",
   "execution_count": 2,
   "id": "49e4b317-6ba2-4f0f-b823-6a8a520641f5",
   "metadata": {},
   "outputs": [],
   "source": [
    "spark = SparkSession.builder \\\n",
    "    .appName(\"Beyes-Theorem\") \\\n",
    "    .getOrCreate()"
   ]
  },
  {
   "cell_type": "markdown",
   "id": "50c24c45-4e4d-46d4-b0bc-1e7280941aef",
   "metadata": {},
   "source": [
    "Lendo dataframe de treino"
   ]
  },
  {
   "cell_type": "code",
   "execution_count": 3,
   "id": "451703ea-ef2a-4451-9986-75e5f6d7d6e5",
   "metadata": {},
   "outputs": [],
   "source": [
    "parquet_path = \"/home/jovyan/work/data/clean-data/train-data/creditcard_2023.parquet\"\n",
    "\n",
    "train_df = spark.read.parquet(parquet_path)"
   ]
  },
  {
   "cell_type": "markdown",
   "id": "1437d4fc-3e75-4e60-bd6f-9715afd1ea04",
   "metadata": {},
   "source": [
    "Lendo dataframe de treino"
   ]
  },
  {
   "cell_type": "code",
   "execution_count": 4,
   "id": "4450ddc5-da40-4ee1-87ed-00e84e858a86",
   "metadata": {},
   "outputs": [],
   "source": [
    "parquet_path = \"/home/jovyan/work/data/clean-data/test-data/creditcard_2023.parquet\"\n",
    "\n",
    "test_df = spark.read.parquet(parquet_path)"
   ]
  },
  {
   "cell_type": "markdown",
   "id": "d13c5097-cf60-405a-8d11-a2e810279ae4",
   "metadata": {},
   "source": [
    "Selecionando dados de treino"
   ]
  },
  {
   "cell_type": "code",
   "execution_count": 20,
   "id": "bc99fcad-d2b3-4839-9e1c-7602c7652b92",
   "metadata": {},
   "outputs": [],
   "source": [
    "train_class_0 = train_df.filter(F.col(\"Class\") == 0).limit(10000)\n",
    "train_class_1 = train_df.filter(F.col(\"Class\") == 1).limit(10000)\n",
    "new_train_df = train_class_0.union(train_class_1)"
   ]
  },
  {
   "cell_type": "code",
   "execution_count": 21,
   "id": "8990e28e-8e81-4736-ba58-9199d9d03dbf",
   "metadata": {},
   "outputs": [
    {
     "name": "stdout",
     "output_type": "stream",
     "text": [
      "+-----+-----+\n",
      "|Class|count|\n",
      "+-----+-----+\n",
      "|    0|10000|\n",
      "|    1|10000|\n",
      "+-----+-----+\n",
      "\n"
     ]
    }
   ],
   "source": [
    "new_train_df.groupBy(\"Class\").count().orderBy(\"count\", ascending=False).show()"
   ]
  },
  {
   "cell_type": "markdown",
   "id": "43e56f11-ec57-4a22-a76c-c7631eb72888",
   "metadata": {},
   "source": [
    "Selecionando dados de teste"
   ]
  },
  {
   "cell_type": "code",
   "execution_count": 22,
   "id": "770d98c6-4681-4eac-8409-fe9ca25c43ab",
   "metadata": {},
   "outputs": [],
   "source": [
    "class_0 = test_df.filter(test_df.Class == 0).limit(500)\n",
    "class_1 = test_df.filter(test_df.Class == 1).limit(500)\n",
    "new_test_df = class_0.union(class_1)"
   ]
  },
  {
   "cell_type": "code",
   "execution_count": 23,
   "id": "9386d2e4-0ecf-4ecc-a9bc-dbc44dc96321",
   "metadata": {},
   "outputs": [
    {
     "name": "stdout",
     "output_type": "stream",
     "text": [
      "+-----+-----+\n",
      "|Class|count|\n",
      "+-----+-----+\n",
      "|    0|  500|\n",
      "|    1|  500|\n",
      "+-----+-----+\n",
      "\n"
     ]
    }
   ],
   "source": [
    "new_test_df.groupBy(\"Class\").count().orderBy(\"count\", ascending=False).show()"
   ]
  },
  {
   "cell_type": "markdown",
   "id": "910d86b1-ca38-4848-b6b3-a9d6f635c248",
   "metadata": {},
   "source": [
    "Quantidade de dados de treino"
   ]
  },
  {
   "cell_type": "code",
   "execution_count": 24,
   "id": "def26659-ca15-42bc-b535-bfdbb3cb0245",
   "metadata": {},
   "outputs": [
    {
     "data": {
      "text/plain": [
       "20000"
      ]
     },
     "execution_count": 24,
     "metadata": {},
     "output_type": "execute_result"
    }
   ],
   "source": [
    "new_train_df.count()"
   ]
  },
  {
   "cell_type": "markdown",
   "id": "019fa940-2ddd-4511-8c46-5f2c69972eaf",
   "metadata": {},
   "source": [
    "Quantidade de dados de treino"
   ]
  },
  {
   "cell_type": "code",
   "execution_count": 25,
   "id": "65858471-ddf2-419a-a2b5-4f2acfb73b39",
   "metadata": {},
   "outputs": [
    {
     "data": {
      "text/plain": [
       "1000"
      ]
     },
     "execution_count": 25,
     "metadata": {},
     "output_type": "execute_result"
    }
   ],
   "source": [
    "new_test_df.count()"
   ]
  },
  {
   "cell_type": "markdown",
   "id": "b0c1ed4c-884b-49c6-9b57-6e56fc14bf8b",
   "metadata": {},
   "source": [
    "Criar um vetor de recursos"
   ]
  },
  {
   "cell_type": "code",
   "execution_count": 26,
   "id": "5e2e114d-865b-4c6d-aebe-ffa441e7633c",
   "metadata": {},
   "outputs": [],
   "source": [
    "feature_cols = [c for c in new_train_df.columns if c != \"Class\"]"
   ]
  },
  {
   "cell_type": "code",
   "execution_count": 27,
   "id": "95fa8331-9465-49ce-ba5a-26c85d7a2be2",
   "metadata": {},
   "outputs": [],
   "source": [
    "for col_name in feature_cols:\n",
    "    output_col = f\"{col_name}_binned\"\n",
    "    \n",
    "    if output_col not in new_train_df.columns:\n",
    "        discretizer = QuantileDiscretizer(\n",
    "            numBuckets=5,\n",
    "            inputCol=col_name,\n",
    "            outputCol=output_col,\n",
    "            handleInvalid=\"skip\"\n",
    "        )\n",
    "        model = discretizer.fit(new_train_df)\n",
    "        new_train_df = model.transform(new_train_df)\n",
    "        new_test_df = model.transform(new_test_df)"
   ]
  },
  {
   "cell_type": "code",
   "execution_count": 29,
   "id": "73f973b2-4b52-4be0-b47e-5cd0d9b272f6",
   "metadata": {},
   "outputs": [],
   "source": [
    "def calculate_conditional_prob(df, feature, class_col=\"Classe\"):\n",
    "    feature_counts = df.groupBy(class_col, feature).agg(count(feature).alias(\"count\"))\n",
    "    class_counts = df.groupBy(class_col).agg(count(\"*\").alias(\"class_count\"))\n",
    "    prob_df = feature_counts.join(class_counts, class_col).withColumn(\n",
    "        f\"P({feature}|{class_col})\", col(\"count\") / col(\"class_count\")\n",
    "    )\n",
    "    return prob_df.drop(\"count\", \"class_count\")\n",
    "\n",
    "def bayes(df_train: DataFrame, df_test: DataFrame, target_col: str = \"Classe\") -> DataFrame:\n",
    "    feature_cols = [c for c in df_train.columns if c != target_col]\n",
    "\n",
    "    total_train_count = df_train.count()  # linha nova\n",
    "\n",
    "    class_counts_df = df_train.groupBy(target_col).agg(count(\"*\").alias(\"count\"))\n",
    "    class_counts = class_counts_df.collect()\n",
    "    class_probs_dict = {\n",
    "        row[target_col]: row[\"count\"] / total_train_count for row in class_counts\n",
    "    }\n",
    "    classes_sorted = sorted(class_probs_dict.keys())\n",
    "\n",
    "    feature_probs = {}\n",
    "    for feature in feature_cols:\n",
    "        prob_df = calculate_conditional_prob(df_train, feature, target_col)\n",
    "        feature_probs[feature] = {\n",
    "            (row[target_col], row[feature]): row[f\"P({feature}|{target_col})\"]\n",
    "            for row in prob_df.collect()\n",
    "        }\n",
    "\n",
    "    results = []\n",
    "    for row in df_test.toLocalIterator(): \n",
    "        probs = {}\n",
    "        row_dict = row.asDict()\n",
    "\n",
    "        for classe in classes_sorted:\n",
    "            p_total = class_probs_dict[classe]\n",
    "            for feature in feature_cols:\n",
    "                key = (classe, row_dict.get(feature))\n",
    "                p_feature = feature_probs[feature].get(\n",
    "                    key, 1 / (total_train_count + len(class_probs_dict))\n",
    "                )\n",
    "                p_total *= p_feature\n",
    "            probs[classe] = p_total\n",
    "\n",
    "        total_prob = sum(probs.values())\n",
    "        prob_vector = [probs[c] / total_prob for c in classes_sorted]\n",
    "\n",
    "        predicted_class = classes_sorted[prob_vector.index(max(prob_vector))]\n",
    "        true_class = row[target_col]\n",
    "\n",
    "        results.append(Row(prediction=predicted_class, Classe=true_class, probability=prob_vector))\n",
    "\n",
    "    result_df = df_train.sql_ctx.createDataFrame(results)\n",
    "    result_df.show(10, truncate=False)\n",
    "\n",
    "    correct_predictions = result_df.filter(col(\"prediction\") == col(\"Classe\")).count()  # linha corrigida\n",
    "    total_samples = result_df.count()\n",
    "    accuracy = correct_predictions / total_samples\n",
    "    print(f\"Acurácia: {accuracy:.2%}\")\n",
    "\n",
    "    return result_df\n"
   ]
  },
  {
   "cell_type": "code",
   "execution_count": 30,
   "id": "c6363e80-34e8-41ff-aa90-3119959edcc7",
   "metadata": {},
   "outputs": [],
   "source": [
    "binned_cols = [f\"{col}_binned\" for col in feature_cols]"
   ]
  },
  {
   "cell_type": "code",
   "execution_count": 31,
   "id": "f5fe79d2-c69e-44ec-9329-22426f5ada80",
   "metadata": {},
   "outputs": [
    {
     "name": "stderr",
     "output_type": "stream",
     "text": [
      "/usr/local/spark/python/pyspark/sql/dataframe.py:168: UserWarning: DataFrame.sql_ctx is an internal property, and will be removed in future releases. Use DataFrame.sparkSession instead.\n",
      "  warnings.warn(\n"
     ]
    },
    {
     "name": "stdout",
     "output_type": "stream",
     "text": [
      "+----------+------+-------------------------------------------+\n",
      "|prediction|Classe|probability                                |\n",
      "+----------+------+-------------------------------------------+\n",
      "|0         |0     |[0.9794833984561704, 0.020516601543829595] |\n",
      "|0         |0     |[0.9342171558593487, 0.06578284414065129]  |\n",
      "|0         |0     |[0.9999997156357098, 2.843642901705827E-7] |\n",
      "|0         |0     |[0.9999999512999621, 4.870003788969457E-8] |\n",
      "|0         |0     |[0.9999765983614095, 2.3401638590368354E-5]|\n",
      "|1         |0     |[1.4749240426773993E-9, 0.9999999985250759]|\n",
      "|0         |0     |[0.9657341477967323, 0.03426585220326769]  |\n",
      "|0         |0     |[0.9998998130717683, 1.0018692823169014E-4]|\n",
      "|0         |0     |[0.9999993871350299, 6.128649700035113E-7] |\n",
      "|0         |0     |[0.9999973407051853, 2.659294814620364E-6] |\n",
      "+----------+------+-------------------------------------------+\n",
      "only showing top 10 rows\n",
      "\n",
      "Acurácia: 99.60%\n"
     ]
    }
   ],
   "source": [
    "result_df = bayes(\n",
    "    new_train_df.select(binned_cols + [\"Class\"]),\n",
    "    new_test_df.select(binned_cols + [\"Class\"]),\n",
    "    target_col=\"Class\"\n",
    ")"
   ]
  },
  {
   "cell_type": "code",
   "execution_count": 32,
   "id": "075beb26-ea72-41ea-94f1-d4aa566f50a4",
   "metadata": {},
   "outputs": [
    {
     "data": {
      "image/png": "[encoded data removed]",
      "text/plain": [
       "<Figure size 640x480 with 2 Axes>"
      ]
     },
     "metadata": {},
     "output_type": "display_data"
    }
   ],
   "source": [
    "collected_result = result_df.select(\"Classe\", \"prediction\").collect() \n",
    "y_true = [row['Classe'] for row in collected_result]  \n",
    "y_pred = [row['prediction'] for row in collected_result]\n",
    "\n",
    "cm = confusion_matrix(y_true, y_pred)\n",
    "disp = ConfusionMatrixDisplay(confusion_matrix=cm)\n",
    "disp.plot()\n",
    "plt.title(\"Matriz de Confusão - Naive Bayes\")\n",
    "plt.show()"
   ]
  },
  {
   "cell_type": "markdown",
   "id": "c08b3188-8cfa-4689-af7b-dfc4fd276605",
   "metadata": {},
   "source": [
    "Finalizando a sessão Spark"
   ]
  },
  {
   "cell_type": "code",
   "execution_count": null,
   "id": "75408bb4-4a71-4422-b23a-8f5a116f1a17",
   "metadata": {},
   "outputs": [],
   "source": [
    "spark.stop()"
   ]
  }
 ],
 "metadata": {
  "kernelspec": {
   "display_name": "Python 3 (ipykernel)",
   "language": "python",
   "name": "python3"
  },
  "language_info": {
   "codemirror_mode": {
    "name": "ipython",
    "version": 3
   },
   "file_extension": ".py",
   "mimetype": "text/x-python",
   "name": "python",
   "nbconvert_exporter": "python",
   "pygments_lexer": "ipython3",
   "version": "3.11.6"
  },
  "widgets": {
   "application/vnd.jupyter.widget-state+json": {
    "state": {},
    "version_major": 2,
    "version_minor": 0
   }
  }
 },
 "nbformat": 4,
 "nbformat_minor": 5
}
