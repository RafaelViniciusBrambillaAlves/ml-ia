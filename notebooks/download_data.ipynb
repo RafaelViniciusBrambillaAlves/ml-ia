{
 "cells": [
  {
   "cell_type": "markdown",
   "id": "ae4de6df-7077-4f6d-b02a-aa431f19cb6a",
   "metadata": {},
   "source": [
    "# Leonardo Vinicius Brambilla Alves\n",
    "# Rafael Vinicius Brambilla Alves"
   ]
  },
  {
   "cell_type": "markdown",
   "id": "2b00b3f0-229c-4798-8dfe-2a89f7f06ff9",
   "metadata": {},
   "source": [
    "# Download dos dados da plataforma Kaggle"
   ]
  },
  {
   "cell_type": "markdown",
   "id": "f7d6f44f-2e55-4e32-8029-f4a330a404d7",
   "metadata": {},
   "source": [
    "Importando bibliotecas"
   ]
  },
  {
   "cell_type": "code",
   "execution_count": 1,
   "id": "08a6c5ac-c976-45ff-a267-0483c690f3f9",
   "metadata": {},
   "outputs": [],
   "source": [
    "import zipfile\n",
    "import os\n",
    "from pathlib import Path"
   ]
  },
  {
   "cell_type": "markdown",
   "id": "71e00492-cd6f-43bb-a4a1-8c1f9a0d8feb",
   "metadata": {},
   "source": [
    "Caminho para o arquivo kaggle.json"
   ]
  },
  {
   "cell_type": "code",
   "execution_count": 2,
   "id": "d63826ba-e435-4528-93f7-fcc5997ec564",
   "metadata": {},
   "outputs": [],
   "source": [
    "kaggle_json_path = '/home/jovyan/.kaggle/kaggle.json'"
   ]
  },
  {
   "cell_type": "markdown",
   "id": "fa734763-dde4-4196-832f-c1e7b1aa7594",
   "metadata": {},
   "source": [
    "Define o diretório do arquivo de configuração do Kaggle"
   ]
  },
  {
   "cell_type": "code",
   "execution_count": 3,
   "id": "736e9023-34e0-415f-82a7-89cee2cb0eec",
   "metadata": {},
   "outputs": [],
   "source": [
    "os.environ['KAGGLE_CONFIG_DIR'] = str(Path(kaggle_json_path).parent)"
   ]
  },
  {
   "cell_type": "markdown",
   "id": "b7536310-77a0-4a46-8be5-ba4ce28510ef",
   "metadata": {},
   "source": [
    "Baixa o dataset do Kaggle para o diretório especificado"
   ]
  },
  {
   "cell_type": "code",
   "execution_count": 11,
   "id": "4a93bcf9-a309-4e4f-9c46-5fb214c0a493",
   "metadata": {},
   "outputs": [
    {
     "name": "stdout",
     "output_type": "stream",
     "text": [
      "Warning: Your Kaggle API key is readable by other users on this system! To fix this, you can run 'chmod 600 /home/jovyan/.kaggle/kaggle.json'\n",
      "Dataset URL: https://www.kaggle.com/datasets/nelgiriyewithana/credit-card-fraud-detection-dataset-2023\n",
      "License(s): other\n"
     ]
    }
   ],
   "source": [
    "!kaggle datasets download -d nelgiriyewithana/credit-card-fraud-detection-dataset-2023 -p '/home/jovyan/work/data/raw-data'"
   ]
  },
  {
   "cell_type": "markdown",
   "id": "9982d27d-0007-44ff-b8d7-248c17259b7b",
   "metadata": {},
   "source": [
    "Caminho para o arquivo ZIP baixado e diretório onde o conteúdo será extraído"
   ]
  },
  {
   "cell_type": "code",
   "execution_count": 21,
   "id": "9fa92f60-d078-4fb2-af2a-5b0fc8942ce1",
   "metadata": {},
   "outputs": [],
   "source": [
    "zip_file = '/home/jovyan/work/data/raw-data/credit-card-fraud-detection-dataset-2023.zip'\n",
    "extract_dir = '/home/jovyan/work/data/raw-data'"
   ]
  },
  {
   "cell_type": "markdown",
   "id": "b1126ac6-9e3c-4202-852d-0ccff8a3ed0d",
   "metadata": {},
   "source": [
    "Extrai o conteúdo do arquivo ZIP para o diretório de destino e exclui o arquivo ZIP após a extração"
   ]
  },
  {
   "cell_type": "code",
   "execution_count": 22,
   "id": "7e7652bc-9543-477c-95e4-aead095c0d22",
   "metadata": {},
   "outputs": [
    {
     "name": "stdout",
     "output_type": "stream",
     "text": [
      "Arquivos extraídos com sucesso em: /home/jovyan/work/data/raw-data\n"
     ]
    }
   ],
   "source": [
    "try:\n",
    "    with zipfile.ZipFile(zip_file, 'r') as z:\n",
    "        z.extractall(extract_dir)\n",
    "    print(f\"Arquivos extraídos com sucesso em: {extract_dir}\")\n",
    "except Exception as e:\n",
    "    print(f\"Erro ao extrair arquivos: {str(e)}\")"
   ]
  },
  {
   "cell_type": "code",
   "execution_count": 23,
   "id": "bdcc83bd-550f-4b9c-a557-e0e5d710867b",
   "metadata": {},
   "outputs": [],
   "source": [
    "os.remove(zip_file)"
   ]
  },
  {
   "cell_type": "code",
   "execution_count": null,
   "id": "29c740b4-a815-4e32-a16a-1c17931a9edb",
   "metadata": {},
   "outputs": [],
   "source": []
  }
 ],
 "metadata": {
  "kernelspec": {
   "display_name": "Python 3 (ipykernel)",
   "language": "python",
   "name": "python3"
  },
  "language_info": {
   "codemirror_mode": {
    "name": "ipython",
    "version": 3
   },
   "file_extension": ".py",
   "mimetype": "text/x-python",
   "name": "python",
   "nbconvert_exporter": "python",
   "pygments_lexer": "ipython3",
   "version": "3.11.6"
  },
  "widgets": {
   "application/vnd.jupyter.widget-state+json": {
    "state": {},
    "version_major": 2,
    "version_minor": 0
   }
  }
 },
 "nbformat": 4,
 "nbformat_minor": 5
}
